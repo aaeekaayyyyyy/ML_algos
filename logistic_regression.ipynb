{
 "cells": [
  {
   "cell_type": "code",
   "execution_count": 3,
   "id": "5dc449f8",
   "metadata": {},
   "outputs": [
    {
     "name": "stdout",
     "output_type": "stream",
     "text": [
      "Let's get started!\n"
     ]
    }
   ],
   "source": [
    "print(\"Let's get started!\")"
   ]
  },
  {
   "cell_type": "code",
   "execution_count": 4,
   "id": "bedd3dd0",
   "metadata": {},
   "outputs": [
    {
     "name": "stdout",
     "output_type": "stream",
     "text": [
      "This is going to be fun!\n"
     ]
    }
   ],
   "source": [
    "print(\"This is going to be fun!\")"
   ]
  },
  {
   "cell_type": "markdown",
   "id": "9f62ab8e",
   "metadata": {},
   "source": [
    "Do want some dataset to play with?"
   ]
  },
  {
   "cell_type": "code",
   "execution_count": 5,
   "id": "4eaaaea3",
   "metadata": {},
   "outputs": [
    {
     "name": "stdout",
     "output_type": "stream",
     "text": [
      "For sure!!!!!\n"
     ]
    }
   ],
   "source": [
    "print(\"For sure!!!!!\")"
   ]
  }
 ],
 "metadata": {
  "kernelspec": {
   "display_name": ".venv",
   "language": "python",
   "name": "python3"
  },
  "language_info": {
   "codemirror_mode": {
    "name": "ipython",
    "version": 3
   },
   "file_extension": ".py",
   "mimetype": "text/x-python",
   "name": "python",
   "nbconvert_exporter": "python",
   "pygments_lexer": "ipython3",
   "version": "3.9.6"
  }
 },
 "nbformat": 4,
 "nbformat_minor": 5
}
